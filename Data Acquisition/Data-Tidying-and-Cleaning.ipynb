{
 "cells": [
  {
   "cell_type": "markdown",
   "id": "608c902a-d7ba-4b31-b6fe-78495dd813fe",
   "metadata": {},
   "source": [
    "## Data-Tidying-and-Cleaning"
   ]
  },
  {
   "cell_type": "code",
   "execution_count": null,
   "id": "cfcd45bc-bcdd-4459-9a9c-a5f283dbb516",
   "metadata": {},
   "outputs": [],
   "source": []
  },
  {
   "cell_type": "code",
   "execution_count": null,
   "id": "3efc5c96-a669-428d-926b-fae03f3dc15a",
   "metadata": {},
   "outputs": [],
   "source": []
  }
 ],
 "metadata": {
  "kernelspec": {
   "display_name": "Python 3 (ipykernel)",
   "language": "python",
   "name": "python3"
  },
  "language_info": {
   "codemirror_mode": {
    "name": "ipython",
    "version": 3
   },
   "file_extension": ".py",
   "mimetype": "text/x-python",
   "name": "python",
   "nbconvert_exporter": "python",
   "pygments_lexer": "ipython3",
   "version": "3.12.4"
  }
 },
 "nbformat": 4,
 "nbformat_minor": 5
}
